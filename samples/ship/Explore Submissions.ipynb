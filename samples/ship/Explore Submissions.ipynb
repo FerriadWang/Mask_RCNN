{
 "cells": [
  {
   "cell_type": "code",
   "execution_count": 1,
   "metadata": {
    "collapsed": true
   },
   "outputs": [],
   "source": [
    "import pandas as pd\n",
    "import numpy as np"
   ]
  },
  {
   "cell_type": "markdown",
   "metadata": {},
   "source": [
    "## Sample Submission"
   ]
  },
  {
   "cell_type": "code",
   "execution_count": 5,
   "metadata": {
    "collapsed": false
   },
   "outputs": [],
   "source": [
    "sample_sub = pd.read_csv(\"./datasets/train_val/sample_submission.csv\")"
   ]
  },
  {
   "cell_type": "code",
   "execution_count": 6,
   "metadata": {
    "collapsed": false
   },
   "outputs": [
    {
     "data": {
      "text/html": [
       "<div>\n",
       "<style>\n",
       "    .dataframe thead tr:only-child th {\n",
       "        text-align: right;\n",
       "    }\n",
       "\n",
       "    .dataframe thead th {\n",
       "        text-align: left;\n",
       "    }\n",
       "\n",
       "    .dataframe tbody tr th {\n",
       "        vertical-align: top;\n",
       "    }\n",
       "</style>\n",
       "<table border=\"1\" class=\"dataframe\">\n",
       "  <thead>\n",
       "    <tr style=\"text-align: right;\">\n",
       "      <th></th>\n",
       "      <th>ImageId</th>\n",
       "      <th>EncodedPixels</th>\n",
       "    </tr>\n",
       "  </thead>\n",
       "  <tbody>\n",
       "    <tr>\n",
       "      <th>count</th>\n",
       "      <td>88486</td>\n",
       "      <td>88486</td>\n",
       "    </tr>\n",
       "    <tr>\n",
       "      <th>unique</th>\n",
       "      <td>88486</td>\n",
       "      <td>1</td>\n",
       "    </tr>\n",
       "    <tr>\n",
       "      <th>top</th>\n",
       "      <td>9d3cd0de1.jpg</td>\n",
       "      <td>1 2</td>\n",
       "    </tr>\n",
       "    <tr>\n",
       "      <th>freq</th>\n",
       "      <td>1</td>\n",
       "      <td>88486</td>\n",
       "    </tr>\n",
       "  </tbody>\n",
       "</table>\n",
       "</div>"
      ],
      "text/plain": [
       "              ImageId EncodedPixels\n",
       "count           88486         88486\n",
       "unique          88486             1\n",
       "top     9d3cd0de1.jpg           1 2\n",
       "freq                1         88486"
      ]
     },
     "execution_count": 6,
     "metadata": {},
     "output_type": "execute_result"
    }
   ],
   "source": [
    "sample_sub.describe()"
   ]
  },
  {
   "cell_type": "code",
   "execution_count": 10,
   "metadata": {
    "collapsed": false
   },
   "outputs": [
    {
     "data": {
      "text/html": [
       "<div>\n",
       "<style>\n",
       "    .dataframe thead tr:only-child th {\n",
       "        text-align: right;\n",
       "    }\n",
       "\n",
       "    .dataframe thead th {\n",
       "        text-align: left;\n",
       "    }\n",
       "\n",
       "    .dataframe tbody tr th {\n",
       "        vertical-align: top;\n",
       "    }\n",
       "</style>\n",
       "<table border=\"1\" class=\"dataframe\">\n",
       "  <thead>\n",
       "    <tr style=\"text-align: right;\">\n",
       "      <th></th>\n",
       "      <th>ImageId</th>\n",
       "      <th>EncodedPixels</th>\n",
       "    </tr>\n",
       "  </thead>\n",
       "  <tbody>\n",
       "    <tr>\n",
       "      <th>54267</th>\n",
       "      <td>9d3cd0de1.jpg</td>\n",
       "      <td>1 2</td>\n",
       "    </tr>\n",
       "  </tbody>\n",
       "</table>\n",
       "</div>"
      ],
      "text/plain": [
       "             ImageId EncodedPixels\n",
       "54267  9d3cd0de1.jpg           1 2"
      ]
     },
     "execution_count": 10,
     "metadata": {},
     "output_type": "execute_result"
    }
   ],
   "source": [
    "sample_sub[sample_sub[\"ImageId\"] == \"9d3cd0de1.jpg\"]"
   ]
  },
  {
   "cell_type": "code",
   "execution_count": 41,
   "metadata": {
    "collapsed": false
   },
   "outputs": [],
   "source": [
    "# 14 unwanted test images\n",
    "unwanted_test_images = ['13703f040.jpg',\n",
    " '14715c06d.jpg',\n",
    " '33e0ff2d5.jpg',\n",
    " '4d4e09f2a.jpg',\n",
    " '877691df8.jpg',\n",
    " '8b909bb20.jpg',\n",
    " 'a8d99130e.jpg',\n",
    " 'ad55c3143.jpg',\n",
    " 'c8260c541.jpg',\n",
    " 'd6c7f17c7.jpg',\n",
    " 'dc3e7c901.jpg',\n",
    " 'e44dffe88.jpg',\n",
    " 'ef87bad36.jpg',\n",
    " 'f083256d8.jpg',]"
   ]
  },
  {
   "cell_type": "code",
   "execution_count": 43,
   "metadata": {
    "collapsed": false
   },
   "outputs": [
    {
     "name": "stdout",
     "output_type": "stream",
     "text": [
      "Submission ids 88486\n",
      "Unwanted 14\n"
     ]
    },
    {
     "data": {
      "text/plain": [
       "88486"
      ]
     },
     "execution_count": 43,
     "metadata": {},
     "output_type": "execute_result"
    }
   ],
   "source": [
    "print(\"Submission ids\", len(sample_sub[\"ImageId\"].tolist()))\n",
    "print(\"Unwanted\", len(unwanted_test_images))\n",
    "\n",
    "# Check if any unwanted images are in sample submission csv\n",
    "len(np.setdiff1d(sample_sub['ImageId'].unique(), unwanted_test_images, assume_unique=True))\n"
   ]
  },
  {
   "cell_type": "markdown",
   "metadata": {
    "collapsed": false
   },
   "source": [
    "## Actual Submission"
   ]
  },
  {
   "cell_type": "code",
   "execution_count": 3,
   "metadata": {
    "collapsed": false
   },
   "outputs": [
    {
     "data": {
      "text/html": [
       "<div>\n",
       "<style>\n",
       "    .dataframe thead tr:only-child th {\n",
       "        text-align: right;\n",
       "    }\n",
       "\n",
       "    .dataframe thead th {\n",
       "        text-align: left;\n",
       "    }\n",
       "\n",
       "    .dataframe tbody tr th {\n",
       "        vertical-align: top;\n",
       "    }\n",
       "</style>\n",
       "<table border=\"1\" class=\"dataframe\">\n",
       "  <thead>\n",
       "    <tr style=\"text-align: right;\">\n",
       "      <th></th>\n",
       "      <th>ImageId</th>\n",
       "      <th>EncodedPixels</th>\n",
       "    </tr>\n",
       "  </thead>\n",
       "  <tbody>\n",
       "    <tr>\n",
       "      <th>0</th>\n",
       "      <td>0001124c7.jpg</td>\n",
       "      <td>NaN</td>\n",
       "    </tr>\n",
       "    <tr>\n",
       "      <th>1</th>\n",
       "      <td>000194a2d.jpg</td>\n",
       "      <td>NaN</td>\n",
       "    </tr>\n",
       "    <tr>\n",
       "      <th>2</th>\n",
       "      <td>0001b1832.jpg</td>\n",
       "      <td>NaN</td>\n",
       "    </tr>\n",
       "    <tr>\n",
       "      <th>3</th>\n",
       "      <td>00052ed46.jpg</td>\n",
       "      <td>NaN</td>\n",
       "    </tr>\n",
       "    <tr>\n",
       "      <th>4</th>\n",
       "      <td>000532683.jpg</td>\n",
       "      <td>569080 1 569846 5 570613 8 571380 10 572148 10...</td>\n",
       "    </tr>\n",
       "  </tbody>\n",
       "</table>\n",
       "</div>"
      ],
      "text/plain": [
       "         ImageId                                      EncodedPixels\n",
       "0  0001124c7.jpg                                                NaN\n",
       "1  000194a2d.jpg                                                NaN\n",
       "2  0001b1832.jpg                                                NaN\n",
       "3  00052ed46.jpg                                                NaN\n",
       "4  000532683.jpg  569080 1 569846 5 570613 8 571380 10 572148 10..."
      ]
     },
     "execution_count": 3,
     "metadata": {},
     "output_type": "execute_result"
    }
   ],
   "source": [
    "sub_blanks = pd.read_csv(\"./submission_20180817T1649.csv\")\n",
    "sub_blanks.head()"
   ]
  },
  {
   "cell_type": "markdown",
   "metadata": {
    "collapsed": false
   },
   "source": [
    "## Corrected Submission"
   ]
  },
  {
   "cell_type": "code",
   "execution_count": 5,
   "metadata": {
    "collapsed": true
   },
   "outputs": [],
   "source": [
    "df = sub_blanks.replace(r'^\\s*$', np.nan, regex=True)\n",
    "df.head()"
   ]
  },
  {
   "cell_type": "code",
   "execution_count": 4,
   "metadata": {
    "collapsed": false
   },
   "outputs": [],
   "source": [
    "# df.to_csv(\"submission_20180817T1649_2.csv\", index=False)"
   ]
  },
  {
   "cell_type": "code",
   "execution_count": null,
   "metadata": {
    "collapsed": false
   },
   "outputs": [],
   "source": []
  },
  {
   "cell_type": "markdown",
   "metadata": {
    "collapsed": true
   },
   "source": [
    "## Remove duplicate pixels"
   ]
  },
  {
   "cell_type": "code",
   "execution_count": 140,
   "metadata": {
    "collapsed": true
   },
   "outputs": [],
   "source": [
    "def rle_encode(img):\n",
    "    '''\n",
    "    img: numpy array, 1 - mask, 0 - background\n",
    "    Returns run length as string formated\n",
    "    '''\n",
    "    pixels = img.T.flatten()\n",
    "    pixels = np.concatenate([[0], pixels, [0]])\n",
    "    runs = np.where(pixels[1:] != pixels[:-1])[0] + 1\n",
    "    runs[1::2] -= runs[::2]\n",
    "    return ' '.join(str(x) for x in runs)\n",
    "\n",
    "def rle_decode(mask_rle, shape=(768, 768)):\n",
    "    '''\n",
    "    mask_rle: run-length as string formated (start length)\n",
    "    shape: (height,width) of array to return\n",
    "    Returns numpy array, 1 - mask, 0 - background\n",
    "\n",
    "    '''\n",
    "    s = mask_rle.split()\n",
    "    starts, lengths = [np.asarray(x, dtype=int) for x in (s[0:][::2], s[1:][::2])]\n",
    "    starts -= 1\n",
    "    ends = starts + lengths\n",
    "    img = np.zeros(shape[0]*shape[1], dtype=np.uint8)\n",
    "    for lo, hi in zip(starts, ends):\n",
    "        img[lo:hi] = 1\n",
    "    return img.reshape(shape).T"
   ]
  },
  {
   "cell_type": "code",
   "execution_count": 11,
   "metadata": {
    "collapsed": false
   },
   "outputs": [
    {
     "data": {
      "text/html": [
       "<div>\n",
       "<style>\n",
       "    .dataframe thead tr:only-child th {\n",
       "        text-align: right;\n",
       "    }\n",
       "\n",
       "    .dataframe thead th {\n",
       "        text-align: left;\n",
       "    }\n",
       "\n",
       "    .dataframe tbody tr th {\n",
       "        vertical-align: top;\n",
       "    }\n",
       "</style>\n",
       "<table border=\"1\" class=\"dataframe\">\n",
       "  <thead>\n",
       "    <tr style=\"text-align: right;\">\n",
       "      <th></th>\n",
       "      <th>ImageId</th>\n",
       "      <th>EncodedPixels</th>\n",
       "    </tr>\n",
       "  </thead>\n",
       "  <tbody>\n",
       "    <tr>\n",
       "      <th>0</th>\n",
       "      <td>0001124c7.jpg</td>\n",
       "      <td>NaN</td>\n",
       "    </tr>\n",
       "    <tr>\n",
       "      <th>1</th>\n",
       "      <td>000194a2d.jpg</td>\n",
       "      <td>1565 3 1594 1 2322 124 2450 9 3087 144 3852 15...</td>\n",
       "    </tr>\n",
       "    <tr>\n",
       "      <th>2</th>\n",
       "      <td>000194a2d.jpg</td>\n",
       "      <td>362787 1 363554 4 364321 5 365089 6 365857 7 3...</td>\n",
       "    </tr>\n",
       "    <tr>\n",
       "      <th>3</th>\n",
       "      <td>000194a2d.jpg</td>\n",
       "      <td>259770 8 260537 9 261305 9 262073 9 262841 9 2...</td>\n",
       "    </tr>\n",
       "    <tr>\n",
       "      <th>4</th>\n",
       "      <td>0001b1832.jpg</td>\n",
       "      <td>NaN</td>\n",
       "    </tr>\n",
       "  </tbody>\n",
       "</table>\n",
       "</div>"
      ],
      "text/plain": [
       "         ImageId                                      EncodedPixels\n",
       "0  0001124c7.jpg                                                NaN\n",
       "1  000194a2d.jpg  1565 3 1594 1 2322 124 2450 9 3087 144 3852 15...\n",
       "2  000194a2d.jpg  362787 1 363554 4 364321 5 365089 6 365857 7 3...\n",
       "3  000194a2d.jpg  259770 8 260537 9 261305 9 262073 9 262841 9 2...\n",
       "4  0001b1832.jpg                                                NaN"
      ]
     },
     "execution_count": 11,
     "metadata": {},
     "output_type": "execute_result"
    }
   ],
   "source": [
    "sub_df = pd.read_csv(\"~/Downloads/submission_20180818T1208.csv\")\n",
    "sub_df.describe()\n",
    "sub_df.head()"
   ]
  },
  {
   "cell_type": "code",
   "execution_count": 128,
   "metadata": {
    "collapsed": false
   },
   "outputs": [
    {
     "data": {
      "text/html": [
       "<div>\n",
       "<style>\n",
       "    .dataframe thead tr:only-child th {\n",
       "        text-align: right;\n",
       "    }\n",
       "\n",
       "    .dataframe thead th {\n",
       "        text-align: left;\n",
       "    }\n",
       "\n",
       "    .dataframe tbody tr th {\n",
       "        vertical-align: top;\n",
       "    }\n",
       "</style>\n",
       "<table border=\"1\" class=\"dataframe\">\n",
       "  <thead>\n",
       "    <tr style=\"text-align: right;\">\n",
       "      <th></th>\n",
       "      <th>ImageId</th>\n",
       "      <th>EncodedPixels</th>\n",
       "    </tr>\n",
       "  </thead>\n",
       "  <tbody>\n",
       "    <tr>\n",
       "      <th>1</th>\n",
       "      <td>000194a2d.jpg</td>\n",
       "      <td>1565 3 1594 1 2322 124 2450 9 3087 144 3852 15...</td>\n",
       "    </tr>\n",
       "    <tr>\n",
       "      <th>2</th>\n",
       "      <td>000194a2d.jpg</td>\n",
       "      <td>362787 1 363554 4 364321 5 365089 6 365857 7 3...</td>\n",
       "    </tr>\n",
       "    <tr>\n",
       "      <th>3</th>\n",
       "      <td>000194a2d.jpg</td>\n",
       "      <td>259770 8 260537 9 261305 9 262073 9 262841 9 2...</td>\n",
       "    </tr>\n",
       "    <tr>\n",
       "      <th>8</th>\n",
       "      <td>0005d6d95.jpg</td>\n",
       "      <td>265139 6 265906 9 266673 11 267439 13 268206 1...</td>\n",
       "    </tr>\n",
       "    <tr>\n",
       "      <th>9</th>\n",
       "      <td>0005d6d95.jpg</td>\n",
       "      <td>265911 3 266678 5 267445 7 268213 7 268980 9 2...</td>\n",
       "    </tr>\n",
       "  </tbody>\n",
       "</table>\n",
       "</div>"
      ],
      "text/plain": [
       "         ImageId                                      EncodedPixels\n",
       "1  000194a2d.jpg  1565 3 1594 1 2322 124 2450 9 3087 144 3852 15...\n",
       "2  000194a2d.jpg  362787 1 363554 4 364321 5 365089 6 365857 7 3...\n",
       "3  000194a2d.jpg  259770 8 260537 9 261305 9 262073 9 262841 9 2...\n",
       "8  0005d6d95.jpg  265139 6 265906 9 266673 11 267439 13 268206 1...\n",
       "9  0005d6d95.jpg  265911 3 266678 5 267445 7 268213 7 268980 9 2..."
      ]
     },
     "execution_count": 128,
     "metadata": {},
     "output_type": "execute_result"
    }
   ],
   "source": [
    "multiple_instances_mask = sub_df.duplicated(subset=\"ImageId\", keep=False)\n",
    "multiple_instances_df = sub_df[dup_mask]\n",
    "multiple_instances_df.head()"
   ]
  },
  {
   "cell_type": "code",
   "execution_count": 127,
   "metadata": {
    "collapsed": false
   },
   "outputs": [
    {
     "name": "stdout",
     "output_type": "stream",
     "text": [
      "         ImageId                                      EncodedPixels\n",
      "1  000194a2d.jpg  1565 3 1594 1 2322 124 2450 9 3087 144 3852 15...\n",
      "2  000194a2d.jpg  362787 1 363554 4 364321 5 365089 6 365857 7 3...\n",
      "3  000194a2d.jpg  259770 8 260537 9 261305 9 262073 9 262841 9 2...\n"
     ]
    }
   ],
   "source": [
    "example_mask = multiple_instances_df[\"ImageId\"] == \"000194a2d.jpg\"\n",
    "image_id_df = multiple_instances_df[example_mask]\n",
    "print(image_id_df)"
   ]
  },
  {
   "cell_type": "code",
   "execution_count": 189,
   "metadata": {
    "collapsed": false
   },
   "outputs": [
    {
     "name": "stdout",
     "output_type": "stream",
     "text": [
      "Checking  10065 unique images\n",
      "---------------------\n",
      "OVERLAP  0005d6d95.jpg\n",
      "---------------------\n",
      "---------------------\n",
      "---------------------\n",
      "---------------------\n",
      "---------------------\n",
      "---------------------\n",
      "---------------------\n",
      "---------------------\n",
      "---------------------\n",
      "---------------------\n",
      "---------------------\n",
      "---------------------\n",
      "---------------------\n",
      "---------------------\n",
      "---------------------\n",
      "---------------------\n",
      "---------------------\n",
      "---------------------\n",
      "---------------------\n",
      "OVERLAP  006da0c7b.jpg\n",
      "---------------------\n",
      "---------------------\n",
      "---------------------\n",
      "---------------------\n",
      "---------------------\n",
      "---------------------\n",
      "---------------------\n",
      "---------------------\n",
      "---------------------\n",
      "---------------------\n",
      "---------------------\n",
      "---------------------\n",
      "---------------------\n",
      "---------------------\n",
      "---------------------\n",
      "---------------------\n",
      "---------------------\n",
      "---------------------\n",
      "---------------------\n",
      "---------------------\n",
      "---------------------\n",
      "---------------------\n",
      "---------------------\n",
      "---------------------\n",
      "---------------------\n",
      "---------------------\n",
      "---------------------\n",
      "---------------------\n",
      "---------------------\n",
      "---------------------\n",
      "OVERLAP  013048d62.jpg\n",
      "---------------------\n",
      "---------------------\n",
      "---------------------\n",
      "---------------------\n",
      "---------------------\n",
      "---------------------\n",
      "---------------------\n",
      "---------------------\n",
      "---------------------\n",
      "---------------------\n",
      "---------------------\n",
      "---------------------\n",
      "---------------------\n",
      "OVERLAP  0171499be.jpg\n",
      "---------------------\n",
      "---------------------\n",
      "---------------------\n",
      "OVERLAP  01834cb80.jpg\n",
      "---------------------\n",
      "---------------------\n",
      "---------------------\n",
      "---------------------\n",
      "---------------------\n",
      "---------------------\n",
      "---------------------\n",
      "OVERLAP  0198728be.jpg\n",
      "---------------------\n",
      "---------------------\n",
      "OVERLAP  01b267948.jpg\n",
      "---------------------\n",
      "---------------------\n",
      "---------------------\n",
      "---------------------\n",
      "---------------------\n",
      "---------------------\n",
      "---------------------\n",
      "---------------------\n",
      "---------------------\n",
      "---------------------\n",
      "---------------------\n",
      "OVERLAP  02021c2f9.jpg\n",
      "---------------------\n",
      "---------------------\n",
      "---------------------\n",
      "OVERLAP  023240c31.jpg\n",
      "---------------------\n",
      "---------------------\n",
      "---------------------\n",
      "---------------------\n",
      "---------------------\n",
      "---------------------\n",
      "---------------------\n",
      "---------------------\n",
      "---------------------\n",
      "---------------------\n",
      "---------------------\n",
      "---------------------\n",
      "---------------------\n",
      "---------------------\n",
      "---------------------\n",
      "OVERLAP  02884baad.jpg\n",
      "---------------------\n",
      "---------------------\n",
      "---------------------\n",
      "---------------------\n",
      "---------------------\n",
      "---------------------\n",
      "---------------------\n",
      "---------------------\n",
      "---------------------\n",
      "---------------------\n",
      "---------------------\n",
      "---------------------\n",
      "---------------------\n",
      "---------------------\n",
      "---------------------\n",
      "---------------------\n",
      "OVERLAP  02eeba747.jpg\n",
      "OVERLAP  02eeba747.jpg\n",
      "---------------------\n",
      "---------------------\n",
      "---------------------\n",
      "---------------------\n",
      "---------------------\n",
      "---------------------\n",
      "---------------------\n",
      "---------------------\n",
      "---------------------\n",
      "---------------------\n",
      "---------------------\n",
      "---------------------\n",
      "---------------------\n",
      "---------------------\n",
      "---------------------\n",
      "---------------------\n",
      "OVERLAP  0372121e8.jpg\n",
      "---------------------\n",
      "---------------------\n",
      "---------------------\n",
      "---------------------\n",
      "---------------------\n",
      "OVERLAP  038cb7f0e.jpg\n",
      "---------------------\n",
      "---------------------\n",
      "---------------------\n",
      "---------------------\n",
      "---------------------\n",
      "---------------------\n",
      "---------------------\n",
      "---------------------\n",
      "---------------------\n",
      "---------------------\n",
      "---------------------\n",
      "---------------------\n",
      "OVERLAP  03c52e923.jpg\n",
      "---------------------\n",
      "---------------------\n",
      "---------------------\n",
      "---------------------\n",
      "---------------------\n",
      "---------------------\n",
      "OVERLAP  03e12b25c.jpg\n",
      "---------------------\n",
      "---------------------\n",
      "---------------------\n",
      "---------------------\n",
      "---------------------\n",
      "---------------------\n",
      "---------------------\n",
      "---------------------\n",
      "---------------------\n",
      "---------------------\n",
      "---------------------\n",
      "---------------------\n",
      "---------------------\n",
      "---------------------\n",
      "---------------------\n",
      "---------------------\n",
      "---------------------\n",
      "---------------------\n",
      "---------------------\n",
      "---------------------\n",
      "---------------------\n",
      "---------------------\n",
      "---------------------\n",
      "---------------------\n",
      "---------------------\n",
      "---------------------\n",
      "---------------------\n",
      "---------------------\n",
      "---------------------\n",
      "---------------------\n",
      "---------------------\n",
      "---------------------\n",
      "---------------------\n",
      "---------------------\n",
      "---------------------\n",
      "---------------------\n",
      "---------------------\n",
      "---------------------\n",
      "---------------------\n",
      "---------------------\n",
      "---------------------\n",
      "---------------------\n",
      "---------------------\n",
      "---------------------\n",
      "---------------------\n",
      "---------------------\n",
      "---------------------\n",
      "OVERLAP  0502d4700.jpg\n",
      "---------------------\n",
      "---------------------\n",
      "OVERLAP  050ef80a1.jpg\n",
      "OVERLAP  050ef80a1.jpg\n",
      "---------------------\n",
      "---------------------\n",
      "---------------------\n",
      "---------------------\n",
      "---------------------\n",
      "---------------------\n",
      "---------------------\n",
      "---------------------\n"
     ]
    },
    {
     "ename": "KeyError",
     "evalue": "'the label [EncodedPixels] is not in the [columns]'",
     "output_type": "error",
     "traceback": [
      "\u001b[0;31m---------------------------------------------------------------------------\u001b[0m",
      "\u001b[0;31mKeyboardInterrupt\u001b[0m                         Traceback (most recent call last)",
      "\u001b[0;32m/Users/Gabriel/anaconda/lib/python3.6/site-packages/pandas/core/indexing.py\u001b[0m in \u001b[0;36m_has_valid_type\u001b[0;34m(self, key, axis)\u001b[0m\n\u001b[1;32m   1431\u001b[0m             \u001b[0;32mtry\u001b[0m\u001b[0;34m:\u001b[0m\u001b[0;34m\u001b[0m\u001b[0m\n\u001b[0;32m-> 1432\u001b[0;31m                 \u001b[0mkey\u001b[0m \u001b[0;34m=\u001b[0m \u001b[0mself\u001b[0m\u001b[0;34m.\u001b[0m\u001b[0m_convert_scalar_indexer\u001b[0m\u001b[0;34m(\u001b[0m\u001b[0mkey\u001b[0m\u001b[0;34m,\u001b[0m \u001b[0maxis\u001b[0m\u001b[0;34m)\u001b[0m\u001b[0;34m\u001b[0m\u001b[0m\n\u001b[0m\u001b[1;32m   1433\u001b[0m                 \u001b[0;32mif\u001b[0m \u001b[0;32mnot\u001b[0m \u001b[0max\u001b[0m\u001b[0;34m.\u001b[0m\u001b[0mcontains\u001b[0m\u001b[0;34m(\u001b[0m\u001b[0mkey\u001b[0m\u001b[0;34m)\u001b[0m\u001b[0;34m:\u001b[0m\u001b[0;34m\u001b[0m\u001b[0m\n",
      "\u001b[0;32m/Users/Gabriel/anaconda/lib/python3.6/site-packages/pandas/core/indexing.py\u001b[0m in \u001b[0;36m_convert_scalar_indexer\u001b[0;34m(self, key, axis)\u001b[0m\n\u001b[1;32m    233\u001b[0m         \u001b[0;31m# if we are accessing via lowered dim, use the last dim\u001b[0m\u001b[0;34m\u001b[0m\u001b[0;34m\u001b[0m\u001b[0m\n\u001b[0;32m--> 234\u001b[0;31m         \u001b[0max\u001b[0m \u001b[0;34m=\u001b[0m \u001b[0mself\u001b[0m\u001b[0;34m.\u001b[0m\u001b[0mobj\u001b[0m\u001b[0;34m.\u001b[0m\u001b[0m_get_axis\u001b[0m\u001b[0;34m(\u001b[0m\u001b[0mmin\u001b[0m\u001b[0;34m(\u001b[0m\u001b[0maxis\u001b[0m\u001b[0;34m,\u001b[0m \u001b[0mself\u001b[0m\u001b[0;34m.\u001b[0m\u001b[0mndim\u001b[0m \u001b[0;34m-\u001b[0m \u001b[0;36m1\u001b[0m\u001b[0;34m)\u001b[0m\u001b[0;34m)\u001b[0m\u001b[0;34m\u001b[0m\u001b[0m\n\u001b[0m\u001b[1;32m    235\u001b[0m         \u001b[0;31m# a scalar\u001b[0m\u001b[0;34m\u001b[0m\u001b[0;34m\u001b[0m\u001b[0m\n",
      "\u001b[0;32m/Users/Gabriel/anaconda/lib/python3.6/site-packages/pandas/core/generic.py\u001b[0m in \u001b[0;36m_get_axis\u001b[0;34m(self, axis)\u001b[0m\n\u001b[1;32m    368\u001b[0m     \u001b[0;32mdef\u001b[0m \u001b[0m_get_axis\u001b[0m\u001b[0;34m(\u001b[0m\u001b[0mself\u001b[0m\u001b[0;34m,\u001b[0m \u001b[0maxis\u001b[0m\u001b[0;34m)\u001b[0m\u001b[0;34m:\u001b[0m\u001b[0;34m\u001b[0m\u001b[0m\n\u001b[0;32m--> 369\u001b[0;31m         \u001b[0mname\u001b[0m \u001b[0;34m=\u001b[0m \u001b[0mself\u001b[0m\u001b[0;34m.\u001b[0m\u001b[0m_get_axis_name\u001b[0m\u001b[0;34m(\u001b[0m\u001b[0maxis\u001b[0m\u001b[0;34m)\u001b[0m\u001b[0;34m\u001b[0m\u001b[0m\n\u001b[0m\u001b[1;32m    370\u001b[0m         \u001b[0;32mreturn\u001b[0m \u001b[0mgetattr\u001b[0m\u001b[0;34m(\u001b[0m\u001b[0mself\u001b[0m\u001b[0;34m,\u001b[0m \u001b[0mname\u001b[0m\u001b[0;34m)\u001b[0m\u001b[0;34m\u001b[0m\u001b[0m\n",
      "\u001b[0;32m/Users/Gabriel/anaconda/lib/python3.6/site-packages/pandas/core/generic.py\u001b[0m in \u001b[0;36m_get_axis_name\u001b[0;34m(self, axis)\u001b[0m\n\u001b[1;32m    356\u001b[0m         \u001b[0maxis\u001b[0m \u001b[0;34m=\u001b[0m \u001b[0mself\u001b[0m\u001b[0;34m.\u001b[0m\u001b[0m_AXIS_ALIASES\u001b[0m\u001b[0;34m.\u001b[0m\u001b[0mget\u001b[0m\u001b[0;34m(\u001b[0m\u001b[0maxis\u001b[0m\u001b[0;34m,\u001b[0m \u001b[0maxis\u001b[0m\u001b[0;34m)\u001b[0m\u001b[0;34m\u001b[0m\u001b[0m\n\u001b[0;32m--> 357\u001b[0;31m         \u001b[0;32mif\u001b[0m \u001b[0misinstance\u001b[0m\u001b[0;34m(\u001b[0m\u001b[0maxis\u001b[0m\u001b[0;34m,\u001b[0m \u001b[0mstring_types\u001b[0m\u001b[0;34m)\u001b[0m\u001b[0;34m:\u001b[0m\u001b[0;34m\u001b[0m\u001b[0m\n\u001b[0m\u001b[1;32m    358\u001b[0m             \u001b[0;32mif\u001b[0m \u001b[0maxis\u001b[0m \u001b[0;32min\u001b[0m \u001b[0mself\u001b[0m\u001b[0;34m.\u001b[0m\u001b[0m_AXIS_NUMBERS\u001b[0m\u001b[0;34m:\u001b[0m\u001b[0;34m\u001b[0m\u001b[0m\n",
      "\u001b[0;31mKeyboardInterrupt\u001b[0m: ",
      "\nDuring handling of the above exception, another exception occurred:\n",
      "\u001b[0;31mKeyError\u001b[0m                                  Traceback (most recent call last)",
      "\u001b[0;32m<ipython-input-189-6ba178feef32>\u001b[0m in \u001b[0;36m<module>\u001b[0;34m()\u001b[0m\n\u001b[1;32m      6\u001b[0m \u001b[0;31m#     print(image_id)\u001b[0m\u001b[0;34m\u001b[0m\u001b[0;34m\u001b[0m\u001b[0m\n\u001b[1;32m      7\u001b[0m     \u001b[0;31m# Image masks in RLE\u001b[0m\u001b[0;34m\u001b[0m\u001b[0;34m\u001b[0m\u001b[0m\n\u001b[0;32m----> 8\u001b[0;31m     \u001b[0mimg_masks\u001b[0m \u001b[0;34m=\u001b[0m \u001b[0mmultiple_instances_df\u001b[0m\u001b[0;34m.\u001b[0m\u001b[0mloc\u001b[0m\u001b[0;34m[\u001b[0m\u001b[0mmultiple_instances_df\u001b[0m\u001b[0;34m[\u001b[0m\u001b[0;34m'ImageId'\u001b[0m\u001b[0;34m]\u001b[0m \u001b[0;34m==\u001b[0m \u001b[0mimage_id\u001b[0m\u001b[0;34m,\u001b[0m \u001b[0;34m'EncodedPixels'\u001b[0m\u001b[0;34m]\u001b[0m\u001b[0;34m.\u001b[0m\u001b[0mtolist\u001b[0m\u001b[0;34m(\u001b[0m\u001b[0;34m)\u001b[0m\u001b[0;34m\u001b[0m\u001b[0m\n\u001b[0m\u001b[1;32m      9\u001b[0m \u001b[0;31m#     print(\"Initial\", img_masks)\u001b[0m\u001b[0;34m\u001b[0m\u001b[0;34m\u001b[0m\u001b[0m\n\u001b[1;32m     10\u001b[0m \u001b[0;34m\u001b[0m\u001b[0m\n",
      "\u001b[0;32m/Users/Gabriel/anaconda/lib/python3.6/site-packages/pandas/core/indexing.py\u001b[0m in \u001b[0;36m__getitem__\u001b[0;34m(self, key)\u001b[0m\n\u001b[1;32m   1323\u001b[0m             \u001b[0;32mexcept\u001b[0m \u001b[0;34m(\u001b[0m\u001b[0mKeyError\u001b[0m\u001b[0;34m,\u001b[0m \u001b[0mIndexError\u001b[0m\u001b[0;34m)\u001b[0m\u001b[0;34m:\u001b[0m\u001b[0;34m\u001b[0m\u001b[0m\n\u001b[1;32m   1324\u001b[0m                 \u001b[0;32mpass\u001b[0m\u001b[0;34m\u001b[0m\u001b[0m\n\u001b[0;32m-> 1325\u001b[0;31m             \u001b[0;32mreturn\u001b[0m \u001b[0mself\u001b[0m\u001b[0;34m.\u001b[0m\u001b[0m_getitem_tuple\u001b[0m\u001b[0;34m(\u001b[0m\u001b[0mkey\u001b[0m\u001b[0;34m)\u001b[0m\u001b[0;34m\u001b[0m\u001b[0m\n\u001b[0m\u001b[1;32m   1326\u001b[0m         \u001b[0;32melse\u001b[0m\u001b[0;34m:\u001b[0m\u001b[0;34m\u001b[0m\u001b[0m\n\u001b[1;32m   1327\u001b[0m             \u001b[0mkey\u001b[0m \u001b[0;34m=\u001b[0m \u001b[0mcom\u001b[0m\u001b[0;34m.\u001b[0m\u001b[0m_apply_if_callable\u001b[0m\u001b[0;34m(\u001b[0m\u001b[0mkey\u001b[0m\u001b[0;34m,\u001b[0m \u001b[0mself\u001b[0m\u001b[0;34m.\u001b[0m\u001b[0mobj\u001b[0m\u001b[0;34m)\u001b[0m\u001b[0;34m\u001b[0m\u001b[0m\n",
      "\u001b[0;32m/Users/Gabriel/anaconda/lib/python3.6/site-packages/pandas/core/indexing.py\u001b[0m in \u001b[0;36m_getitem_tuple\u001b[0;34m(self, tup)\u001b[0m\n\u001b[1;32m    834\u001b[0m     \u001b[0;32mdef\u001b[0m \u001b[0m_getitem_tuple\u001b[0m\u001b[0;34m(\u001b[0m\u001b[0mself\u001b[0m\u001b[0;34m,\u001b[0m \u001b[0mtup\u001b[0m\u001b[0;34m)\u001b[0m\u001b[0;34m:\u001b[0m\u001b[0;34m\u001b[0m\u001b[0m\n\u001b[1;32m    835\u001b[0m         \u001b[0;32mtry\u001b[0m\u001b[0;34m:\u001b[0m\u001b[0;34m\u001b[0m\u001b[0m\n\u001b[0;32m--> 836\u001b[0;31m             \u001b[0;32mreturn\u001b[0m \u001b[0mself\u001b[0m\u001b[0;34m.\u001b[0m\u001b[0m_getitem_lowerdim\u001b[0m\u001b[0;34m(\u001b[0m\u001b[0mtup\u001b[0m\u001b[0;34m)\u001b[0m\u001b[0;34m\u001b[0m\u001b[0m\n\u001b[0m\u001b[1;32m    837\u001b[0m         \u001b[0;32mexcept\u001b[0m \u001b[0mIndexingError\u001b[0m\u001b[0;34m:\u001b[0m\u001b[0;34m\u001b[0m\u001b[0m\n\u001b[1;32m    838\u001b[0m             \u001b[0;32mpass\u001b[0m\u001b[0;34m\u001b[0m\u001b[0m\n",
      "\u001b[0;32m/Users/Gabriel/anaconda/lib/python3.6/site-packages/pandas/core/indexing.py\u001b[0m in \u001b[0;36m_getitem_lowerdim\u001b[0;34m(self, tup)\u001b[0m\n\u001b[1;32m    965\u001b[0m         \u001b[0;32mfor\u001b[0m \u001b[0mi\u001b[0m\u001b[0;34m,\u001b[0m \u001b[0mkey\u001b[0m \u001b[0;32min\u001b[0m \u001b[0menumerate\u001b[0m\u001b[0;34m(\u001b[0m\u001b[0mtup\u001b[0m\u001b[0;34m)\u001b[0m\u001b[0;34m:\u001b[0m\u001b[0;34m\u001b[0m\u001b[0m\n\u001b[1;32m    966\u001b[0m             \u001b[0;32mif\u001b[0m \u001b[0mis_label_like\u001b[0m\u001b[0;34m(\u001b[0m\u001b[0mkey\u001b[0m\u001b[0;34m)\u001b[0m \u001b[0;32mor\u001b[0m \u001b[0misinstance\u001b[0m\u001b[0;34m(\u001b[0m\u001b[0mkey\u001b[0m\u001b[0;34m,\u001b[0m \u001b[0mtuple\u001b[0m\u001b[0;34m)\u001b[0m\u001b[0;34m:\u001b[0m\u001b[0;34m\u001b[0m\u001b[0m\n\u001b[0;32m--> 967\u001b[0;31m                 \u001b[0msection\u001b[0m \u001b[0;34m=\u001b[0m \u001b[0mself\u001b[0m\u001b[0;34m.\u001b[0m\u001b[0m_getitem_axis\u001b[0m\u001b[0;34m(\u001b[0m\u001b[0mkey\u001b[0m\u001b[0;34m,\u001b[0m \u001b[0maxis\u001b[0m\u001b[0;34m=\u001b[0m\u001b[0mi\u001b[0m\u001b[0;34m)\u001b[0m\u001b[0;34m\u001b[0m\u001b[0m\n\u001b[0m\u001b[1;32m    968\u001b[0m \u001b[0;34m\u001b[0m\u001b[0m\n\u001b[1;32m    969\u001b[0m                 \u001b[0;31m# we have yielded a scalar ?\u001b[0m\u001b[0;34m\u001b[0m\u001b[0;34m\u001b[0m\u001b[0m\n",
      "\u001b[0;32m/Users/Gabriel/anaconda/lib/python3.6/site-packages/pandas/core/indexing.py\u001b[0m in \u001b[0;36m_getitem_axis\u001b[0;34m(self, key, axis)\u001b[0m\n\u001b[1;32m   1549\u001b[0m \u001b[0;34m\u001b[0m\u001b[0m\n\u001b[1;32m   1550\u001b[0m         \u001b[0;31m# fall thru to straight lookup\u001b[0m\u001b[0;34m\u001b[0m\u001b[0;34m\u001b[0m\u001b[0m\n\u001b[0;32m-> 1551\u001b[0;31m         \u001b[0mself\u001b[0m\u001b[0;34m.\u001b[0m\u001b[0m_has_valid_type\u001b[0m\u001b[0;34m(\u001b[0m\u001b[0mkey\u001b[0m\u001b[0;34m,\u001b[0m \u001b[0maxis\u001b[0m\u001b[0;34m)\u001b[0m\u001b[0;34m\u001b[0m\u001b[0m\n\u001b[0m\u001b[1;32m   1552\u001b[0m         \u001b[0;32mreturn\u001b[0m \u001b[0mself\u001b[0m\u001b[0;34m.\u001b[0m\u001b[0m_get_label\u001b[0m\u001b[0;34m(\u001b[0m\u001b[0mkey\u001b[0m\u001b[0;34m,\u001b[0m \u001b[0maxis\u001b[0m\u001b[0;34m=\u001b[0m\u001b[0maxis\u001b[0m\u001b[0;34m)\u001b[0m\u001b[0;34m\u001b[0m\u001b[0m\n\u001b[1;32m   1553\u001b[0m \u001b[0;34m\u001b[0m\u001b[0m\n",
      "\u001b[0;32m/Users/Gabriel/anaconda/lib/python3.6/site-packages/pandas/core/indexing.py\u001b[0m in \u001b[0;36m_has_valid_type\u001b[0;34m(self, key, axis)\u001b[0m\n\u001b[1;32m   1440\u001b[0m                 \u001b[0;32mraise\u001b[0m\u001b[0;34m\u001b[0m\u001b[0m\n\u001b[1;32m   1441\u001b[0m             \u001b[0;32mexcept\u001b[0m\u001b[0;34m:\u001b[0m\u001b[0;34m\u001b[0m\u001b[0m\n\u001b[0;32m-> 1442\u001b[0;31m                 \u001b[0merror\u001b[0m\u001b[0;34m(\u001b[0m\u001b[0;34m)\u001b[0m\u001b[0;34m\u001b[0m\u001b[0m\n\u001b[0m\u001b[1;32m   1443\u001b[0m \u001b[0;34m\u001b[0m\u001b[0m\n\u001b[1;32m   1444\u001b[0m         \u001b[0;32mreturn\u001b[0m \u001b[0;32mTrue\u001b[0m\u001b[0;34m\u001b[0m\u001b[0m\n",
      "\u001b[0;32m/Users/Gabriel/anaconda/lib/python3.6/site-packages/pandas/core/indexing.py\u001b[0m in \u001b[0;36merror\u001b[0;34m()\u001b[0m\n\u001b[1;32m   1427\u001b[0m                                     \"key\")\n\u001b[1;32m   1428\u001b[0m                 raise KeyError(\"the label [%s] is not in the [%s]\" %\n\u001b[0;32m-> 1429\u001b[0;31m                                (key, self.obj._get_axis_name(axis)))\n\u001b[0m\u001b[1;32m   1430\u001b[0m \u001b[0;34m\u001b[0m\u001b[0m\n\u001b[1;32m   1431\u001b[0m             \u001b[0;32mtry\u001b[0m\u001b[0;34m:\u001b[0m\u001b[0;34m\u001b[0m\u001b[0m\n",
      "\u001b[0;31mKeyError\u001b[0m: 'the label [EncodedPixels] is not in the [columns]'"
     ]
    }
   ],
   "source": [
    "unique_ids_multiple_instances = multiple_instances_df.ImageId.unique()\n",
    "print(\"Checking \", len(unique_ids_multiple_instances), \"unique images\")\n",
    "out_pred_rows = []\n",
    "for image_id in unique_ids_multiple_instances:\n",
    "    \n",
    "#     print(image_id)\n",
    "    # Image masks in RLE\n",
    "    img_masks = multiple_instances_df.loc[multiple_instances_df['ImageId'] == image_id, 'EncodedPixels'].tolist()\n",
    "#     print(\"Initial\", img_masks)\n",
    "    \n",
    "    # Mask array placeholder\n",
    "    mask_array = np.zeros([768, 768, len(img_masks)],dtype=np.uint8)\n",
    "\n",
    "    # Build mask array\n",
    "    for index, mask in enumerate(img_masks):\n",
    "        mask_array[:,:,index] = rle_decode(mask, [768, 768])\n",
    "\n",
    "#     print(\"mask_array shape\", mask_array.shape)\n",
    "    loop_range = np.array(mask_array).shape[-1] - 1\n",
    "#     print(\"loop_range\", np.arange(loop_range))\n",
    "    \n",
    "    # Check for overlap and remove overlapped pixels\n",
    "    for i in np.arange(loop_range):\n",
    "#         print(\"i: \", i)\n",
    "        mask = mask_array[:,:,i]\n",
    "        \n",
    "        loop_j = np.arange(loop_range-i)+i+1\n",
    "#         print(loop_j)\n",
    "        for j in loop_j:\n",
    "#             print(\"j: \", j)\n",
    "            next_mask = mask_array[:,:,j]\n",
    "            \n",
    "            index_of_overlap = np.logical_and(mask, next_mask)\n",
    "            if any(index_of_overlap.flatten()):\n",
    "                    print(\"OVERLAP \", image_id)\n",
    "                    next_mask[index_of_overlap] = 0\n",
    "#             else: \n",
    "#                 print(\"NO OVERLAP\")\n",
    "        \n",
    "    # Convert back into RLE encoding\n",
    "    re_encoded_to_rle_list = []\n",
    "    for i in np.arange(np.array(mask_array).shape[-1]):\n",
    "        boolean_mask = mask_array[:,:,i]\n",
    "        re_encoded_to_rle = rle_encode(boolean_mask)\n",
    "        re_encoded_to_rle_list.append(re_encoded_to_rle)\n",
    "\n",
    "#     print(\"---------------------\")\n",
    "\n",
    "#     print(\"Ending\", re_encoded_to_rle_list)\n",
    "    \n",
    "    if len(re_encoded_to_rle_list) == 0:\n",
    "        out_pred_rows += [{'ImageId': image_id, 'EncodedPixels': None}]\n",
    "    else:\n",
    "        for rle_mask in re_encoded_to_rle_list:\n",
    "            out_pred_rows += [{'ImageId': image_id, 'EncodedPixels': rle_mask}]\n",
    "            \n",
    "no_overlap_df = pd.DataFrame(out_pred_rows)[['ImageId', 'EncodedPixels']]\n",
    "    \n",
    "#     print(no_overlap_df)\n",
    "    \n",
    "    \n",
    "    "
   ]
  },
  {
   "cell_type": "code",
   "execution_count": 179,
   "metadata": {
    "collapsed": false
   },
   "outputs": [
    {
     "data": {
      "text/plain": [
       "array([1, 2])"
      ]
     },
     "execution_count": 179,
     "metadata": {},
     "output_type": "execute_result"
    }
   ],
   "source": [
    "        \n",
    "np.arange(2)+1\n",
    "        "
   ]
  },
  {
   "cell_type": "code",
   "execution_count": 175,
   "metadata": {
    "collapsed": false
   },
   "outputs": [
    {
     "data": {
      "text/plain": [
       "(2, 4, 3)"
      ]
     },
     "execution_count": 175,
     "metadata": {},
     "output_type": "execute_result"
    }
   ],
   "source": [
    "a1 = np.array([[1,1,0,0],\n",
    "               [1,1,0,0]])\n",
    "a2 = np.array([[0,0,0,0],\n",
    "               [0,1,1,0]])\n",
    "a3 = np.array([[0,1,1,0],\n",
    "               [0,0,0,0]])\n",
    "masks = np.zeros([2,4,3])\n",
    "masks[:,:,0] = a1\n",
    "masks[:,:,1] = a2\n",
    "masks[:,:,2] = a3\n",
    "masks.shape"
   ]
  },
  {
   "cell_type": "code",
   "execution_count": 176,
   "metadata": {
    "collapsed": false
   },
   "outputs": [
    {
     "name": "stdout",
     "output_type": "stream",
     "text": [
      "[[[ 1.  0.  0.]\n",
      "  [ 1.  0.  1.]\n",
      "  [ 0.  0.  1.]\n",
      "  [ 0.  0.  0.]]\n",
      "\n",
      " [[ 0.  0.  0.]\n",
      "  [ 0.  1.  0.]\n",
      "  [ 0.  1.  0.]\n",
      "  [ 0.  0.  0.]]]\n"
     ]
    }
   ],
   "source": [
    "# print(\"Masks\", masks)\n",
    "for index, mask in enumerate(masks):\n",
    "    for next_mask in masks[index+1:]:\n",
    "        index_of_overlap = np.logical_and(mask, next_mask)\n",
    "        if any(index_of_overlap.flatten()):\n",
    "            next_mask[index_of_overlap] = 0\n",
    "    \n",
    "print(masks)"
   ]
  },
  {
   "cell_type": "code",
   "execution_count": 80,
   "metadata": {
    "collapsed": false
   },
   "outputs": [],
   "source": [
    "index_of_overlap = np.logical_and(a1,a2,a3)\n",
    "index_of_overlap\n",
    "\n",
    "a2[index_of_overlap] = 0\n",
    "a3[index_of_overlap] = 0"
   ]
  },
  {
   "cell_type": "code",
   "execution_count": 81,
   "metadata": {
    "collapsed": false
   },
   "outputs": [
    {
     "name": "stdout",
     "output_type": "stream",
     "text": [
      "[[0 0 0]\n",
      " [1 0 0]]\n",
      "[[0 0 0]\n",
      " [0 0 0]]\n",
      "[[0 0 0]\n",
      " [0 0 0]]\n"
     ]
    }
   ],
   "source": [
    "print(a1)\n",
    "print(a2)\n",
    "print(a3)"
   ]
  },
  {
   "cell_type": "code",
   "execution_count": null,
   "metadata": {
    "collapsed": true
   },
   "outputs": [],
   "source": []
  }
 ],
 "metadata": {
  "kernelspec": {
   "display_name": "Python 3",
   "language": "python",
   "name": "python3"
  },
  "language_info": {
   "codemirror_mode": {
    "name": "ipython",
    "version": 3
   },
   "file_extension": ".py",
   "mimetype": "text/x-python",
   "name": "python",
   "nbconvert_exporter": "python",
   "pygments_lexer": "ipython3",
   "version": "3.6.3"
  }
 },
 "nbformat": 4,
 "nbformat_minor": 2
}
